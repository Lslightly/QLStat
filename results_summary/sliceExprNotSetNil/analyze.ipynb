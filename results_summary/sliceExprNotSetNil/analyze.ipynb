{
 "cells": [
  {
   "cell_type": "code",
   "execution_count": 1,
   "metadata": {},
   "outputs": [],
   "source": [
    "import pandas as pd\n",
    "\n",
    "ANNOTATED_CSV = \"concat_manual_annotated.csv\"\n",
    "\"\"\"\n",
    "希望统计\n",
    "    1. manualCheck中true/false占比\n",
    "\"\"\"\n",
    "df = pd.read_csv(ANNOTATED_CSV, index_col=False)\n",
    "# 将manualCheck列为空的行给筛除掉\n",
    "df = df[df[\"manualCheck\"].notna()]"
   ]
  },
  {
   "cell_type": "code",
   "execution_count": 2,
   "metadata": {},
   "outputs": [
    {
     "name": "stdout",
     "output_type": "stream",
     "text": [
      "manualCheck\n",
      "False    64\n",
      "True      6\n",
      "Name: count, dtype: int64\n",
      "manualCheck\n",
      "False    0.914286\n",
      "True     0.085714\n",
      "Name: proportion, dtype: float64\n"
     ]
    }
   ],
   "source": [
    "# 人工检查manualCheck结果\n",
    "count = df[\"manualCheck\"].value_counts()\n",
    "print(count)\n",
    "dist = df[\"manualCheck\"].value_counts(normalize=True)\n",
    "print(dist)"
   ]
  },
  {
   "cell_type": "code",
   "execution_count": 10,
   "metadata": {},
   "outputs": [
    {
     "name": "stdout",
     "output_type": "stream",
     "text": [
      "True Positive Code Locations:\n",
      "/data/github_go/repos/AdGuardHome/internal/querylog/search.go:116:4:116:36\n",
      "/data/github_go/repos/EasyDarwin/rtsp/player.go:50:3:50:33\n",
      "/data/github_go/repos/VictoriaMetrics/app/vmselect/promql/transform.go:2146:3:2146:20\n",
      "/data/github_go/repos/VictoriaMetrics/lib/regexutil/regexutil.go:161:4:161:24\n",
      "/data/github_go/repos/aws-sdk-go/service/s3/s3manager/batch.go:171:3:171:33\n",
      "/data/github_go/repos/badger/db.go:1129:4:1129:22\n"
     ]
    }
   ],
   "source": [
    "# 报告确实正确的代码位置\n",
    "print(\"True Positive Code Locations:\")\n",
    "locs = df[df[\"manualCheck\"] == True][\"loc\"].to_list()\n",
    "for loc in locs:\n",
    "    print(loc)"
   ]
  },
  {
   "cell_type": "code",
   "execution_count": 6,
   "metadata": {},
   "outputs": [
    {
     "name": "stdout",
     "output_type": "stream",
     "text": [
      "23\n"
     ]
    },
    {
     "data": {
      "text/plain": [
       "count    159.000000\n",
       "mean       3.603774\n",
       "std        3.957078\n",
       "min        1.000000\n",
       "25%        1.000000\n",
       "50%        2.000000\n",
       "75%        5.000000\n",
       "max       23.000000\n",
       "dtype: float64"
      ]
     },
     "execution_count": 6,
     "metadata": {},
     "output_type": "execute_result"
    }
   ],
   "source": [
    "# linter在每个仓库中报告问题的数量分布+在一个仓库中报告问题数量的max\n",
    "import pandas as pd\n",
    "RAW_CSV = \"concat.csv\"\n",
    "df = pd.read_csv(RAW_CSV, index_col=False)\n",
    "REPONAME_COLUMN = \"repoName\"\n",
    "df = df.groupby(REPONAME_COLUMN).size()\n",
    "print(df.max())\n",
    "df.describe()"
   ]
  }
 ],
 "metadata": {
  "kernelspec": {
   "display_name": ".venv",
   "language": "python",
   "name": "python3"
  },
  "language_info": {
   "codemirror_mode": {
    "name": "ipython",
    "version": 3
   },
   "file_extension": ".py",
   "mimetype": "text/x-python",
   "name": "python",
   "nbconvert_exporter": "python",
   "pygments_lexer": "ipython3",
   "version": "3.11.8"
  }
 },
 "nbformat": 4,
 "nbformat_minor": 2
}
