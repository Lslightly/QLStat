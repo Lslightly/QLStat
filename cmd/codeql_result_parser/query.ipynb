{
 "cells": [
  {
   "cell_type": "code",
   "execution_count": 10,
   "metadata": {},
   "outputs": [
    {
     "data": {
      "text/html": [
       "<div>\n",
       "<style scoped>\n",
       "    .dataframe tbody tr th:only-of-type {\n",
       "        vertical-align: middle;\n",
       "    }\n",
       "\n",
       "    .dataframe tbody tr th {\n",
       "        vertical-align: top;\n",
       "    }\n",
       "\n",
       "    .dataframe thead th {\n",
       "        text-align: right;\n",
       "    }\n",
       "</style>\n",
       "<table border=\"1\" class=\"dataframe\">\n",
       "  <thead>\n",
       "    <tr style=\"text-align: right;\">\n",
       "      <th></th>\n",
       "      <th>Count</th>\n",
       "      <th>Proportion(%)</th>\n",
       "    </tr>\n",
       "    <tr>\n",
       "      <th>objTSizeLarge</th>\n",
       "      <th></th>\n",
       "      <th></th>\n",
       "    </tr>\n",
       "  </thead>\n",
       "  <tbody>\n",
       "    <tr>\n",
       "      <th>True</th>\n",
       "      <td>556</td>\n",
       "      <td>97.033159</td>\n",
       "    </tr>\n",
       "    <tr>\n",
       "      <th>False</th>\n",
       "      <td>17</td>\n",
       "      <td>2.966841</td>\n",
       "    </tr>\n",
       "  </tbody>\n",
       "</table>\n",
       "</div>"
      ],
      "text/plain": [
       "               Count  Proportion(%)\n",
       "objTSizeLarge                      \n",
       "True             556      97.033159\n",
       "False             17       2.966841"
      ]
     },
     "execution_count": 10,
     "metadata": {},
     "output_type": "execute_result"
    }
   ],
   "source": [
    "import pandas as pd\n",
    "from enum import Enum\n",
    "\n",
    "class sliceExprNotSetNilColumns(Enum):\n",
    "    objTSizeLarge = 'bool'\n",
    "\n",
    "path = \"/data/github_go/pattern/codeqlResult/sliceExprNotSetNil/analyze/concat.csv\"\n",
    "df = pd.read_csv(path, index_col=False)\n",
    "df[sliceExprNotSetNilColumns.objTSizeLarge.name] = df[sliceExprNotSetNilColumns.objTSizeLarge.name].astype(sliceExprNotSetNilColumns.objTSizeLarge.value)\n",
    "typeSizeDist = pd.DataFrame({\"Count\": df[sliceExprNotSetNilColumns.objTSizeLarge.name].value_counts(), \"Proportion(%)\": df[sliceExprNotSetNilColumns.objTSizeLarge.name].value_counts(normalize=True)*100})\n",
    "typeSizeDist"
   ]
  }
 ],
 "metadata": {
  "kernelspec": {
   "display_name": "spark",
   "language": "python",
   "name": "python3"
  },
  "language_info": {
   "codemirror_mode": {
    "name": "ipython",
    "version": 3
   },
   "file_extension": ".py",
   "mimetype": "text/x-python",
   "name": "python",
   "nbconvert_exporter": "python",
   "pygments_lexer": "ipython3",
   "version": "3.11.8"
  }
 },
 "nbformat": 4,
 "nbformat_minor": 2
}
